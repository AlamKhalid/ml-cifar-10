{
  "nbformat": 4,
  "nbformat_minor": 0,
  "metadata": {
    "colab": {
      "name": "Week-3-Mini-Project.ipynb",
      "provenance": [],
      "collapsed_sections": [],
      "toc_visible": true,
      "authorship_tag": "ABX9TyOLXR/t5AZymHlPgM5LHmX8",
      "include_colab_link": true
    },
    "kernelspec": {
      "name": "python3",
      "display_name": "Python 3"
    },
    "accelerator": "GPU",
    "widgets": {
      "application/vnd.jupyter.widget-state+json": {
        "bb677b681aef47b1afdef79f4a217517": {
          "model_module": "@jupyter-widgets/controls",
          "model_name": "HBoxModel",
          "state": {
            "_view_name": "HBoxView",
            "_dom_classes": [],
            "_model_name": "HBoxModel",
            "_view_module": "@jupyter-widgets/controls",
            "_model_module_version": "1.5.0",
            "_view_count": null,
            "_view_module_version": "1.5.0",
            "box_style": "",
            "layout": "IPY_MODEL_d06953c59833447394071a656ce97f54",
            "_model_module": "@jupyter-widgets/controls",
            "children": [
              "IPY_MODEL_07691d788aec439db56dc65370738ffa",
              "IPY_MODEL_5e86d4f671df4e49993021524c456ecb"
            ]
          }
        },
        "d06953c59833447394071a656ce97f54": {
          "model_module": "@jupyter-widgets/base",
          "model_name": "LayoutModel",
          "state": {
            "_view_name": "LayoutView",
            "grid_template_rows": null,
            "right": null,
            "justify_content": null,
            "_view_module": "@jupyter-widgets/base",
            "overflow": null,
            "_model_module_version": "1.2.0",
            "_view_count": null,
            "flex_flow": null,
            "width": null,
            "min_width": null,
            "border": null,
            "align_items": null,
            "bottom": null,
            "_model_module": "@jupyter-widgets/base",
            "top": null,
            "grid_column": null,
            "overflow_y": null,
            "overflow_x": null,
            "grid_auto_flow": null,
            "grid_area": null,
            "grid_template_columns": null,
            "flex": null,
            "_model_name": "LayoutModel",
            "justify_items": null,
            "grid_row": null,
            "max_height": null,
            "align_content": null,
            "visibility": null,
            "align_self": null,
            "height": null,
            "min_height": null,
            "padding": null,
            "grid_auto_rows": null,
            "grid_gap": null,
            "max_width": null,
            "order": null,
            "_view_module_version": "1.2.0",
            "grid_template_areas": null,
            "object_position": null,
            "object_fit": null,
            "grid_auto_columns": null,
            "margin": null,
            "display": null,
            "left": null
          }
        },
        "07691d788aec439db56dc65370738ffa": {
          "model_module": "@jupyter-widgets/controls",
          "model_name": "FloatProgressModel",
          "state": {
            "_view_name": "ProgressView",
            "style": "IPY_MODEL_222d75b97ce54f62a156f2d0ad9cf79a",
            "_dom_classes": [],
            "description": "",
            "_model_name": "FloatProgressModel",
            "bar_style": "info",
            "max": 1,
            "_view_module": "@jupyter-widgets/controls",
            "_model_module_version": "1.5.0",
            "value": 1,
            "_view_count": null,
            "_view_module_version": "1.5.0",
            "orientation": "horizontal",
            "min": 0,
            "description_tooltip": null,
            "_model_module": "@jupyter-widgets/controls",
            "layout": "IPY_MODEL_5093298236bf40e797225a696d53a697"
          }
        },
        "5e86d4f671df4e49993021524c456ecb": {
          "model_module": "@jupyter-widgets/controls",
          "model_name": "HTMLModel",
          "state": {
            "_view_name": "HTMLView",
            "style": "IPY_MODEL_8875568ff35d4f2a87956cd4dc285c30",
            "_dom_classes": [],
            "description": "",
            "_model_name": "HTMLModel",
            "placeholder": "​",
            "_view_module": "@jupyter-widgets/controls",
            "_model_module_version": "1.5.0",
            "value": " 170500096/? [00:20&lt;00:00, 34122611.68it/s]",
            "_view_count": null,
            "_view_module_version": "1.5.0",
            "description_tooltip": null,
            "_model_module": "@jupyter-widgets/controls",
            "layout": "IPY_MODEL_90d03a0e3e0f4e0ab5ca5f2d0fe7ad8c"
          }
        },
        "222d75b97ce54f62a156f2d0ad9cf79a": {
          "model_module": "@jupyter-widgets/controls",
          "model_name": "ProgressStyleModel",
          "state": {
            "_view_name": "StyleView",
            "_model_name": "ProgressStyleModel",
            "description_width": "initial",
            "_view_module": "@jupyter-widgets/base",
            "_model_module_version": "1.5.0",
            "_view_count": null,
            "_view_module_version": "1.2.0",
            "bar_color": null,
            "_model_module": "@jupyter-widgets/controls"
          }
        },
        "5093298236bf40e797225a696d53a697": {
          "model_module": "@jupyter-widgets/base",
          "model_name": "LayoutModel",
          "state": {
            "_view_name": "LayoutView",
            "grid_template_rows": null,
            "right": null,
            "justify_content": null,
            "_view_module": "@jupyter-widgets/base",
            "overflow": null,
            "_model_module_version": "1.2.0",
            "_view_count": null,
            "flex_flow": null,
            "width": null,
            "min_width": null,
            "border": null,
            "align_items": null,
            "bottom": null,
            "_model_module": "@jupyter-widgets/base",
            "top": null,
            "grid_column": null,
            "overflow_y": null,
            "overflow_x": null,
            "grid_auto_flow": null,
            "grid_area": null,
            "grid_template_columns": null,
            "flex": null,
            "_model_name": "LayoutModel",
            "justify_items": null,
            "grid_row": null,
            "max_height": null,
            "align_content": null,
            "visibility": null,
            "align_self": null,
            "height": null,
            "min_height": null,
            "padding": null,
            "grid_auto_rows": null,
            "grid_gap": null,
            "max_width": null,
            "order": null,
            "_view_module_version": "1.2.0",
            "grid_template_areas": null,
            "object_position": null,
            "object_fit": null,
            "grid_auto_columns": null,
            "margin": null,
            "display": null,
            "left": null
          }
        },
        "8875568ff35d4f2a87956cd4dc285c30": {
          "model_module": "@jupyter-widgets/controls",
          "model_name": "DescriptionStyleModel",
          "state": {
            "_view_name": "StyleView",
            "_model_name": "DescriptionStyleModel",
            "description_width": "",
            "_view_module": "@jupyter-widgets/base",
            "_model_module_version": "1.5.0",
            "_view_count": null,
            "_view_module_version": "1.2.0",
            "_model_module": "@jupyter-widgets/controls"
          }
        },
        "90d03a0e3e0f4e0ab5ca5f2d0fe7ad8c": {
          "model_module": "@jupyter-widgets/base",
          "model_name": "LayoutModel",
          "state": {
            "_view_name": "LayoutView",
            "grid_template_rows": null,
            "right": null,
            "justify_content": null,
            "_view_module": "@jupyter-widgets/base",
            "overflow": null,
            "_model_module_version": "1.2.0",
            "_view_count": null,
            "flex_flow": null,
            "width": null,
            "min_width": null,
            "border": null,
            "align_items": null,
            "bottom": null,
            "_model_module": "@jupyter-widgets/base",
            "top": null,
            "grid_column": null,
            "overflow_y": null,
            "overflow_x": null,
            "grid_auto_flow": null,
            "grid_area": null,
            "grid_template_columns": null,
            "flex": null,
            "_model_name": "LayoutModel",
            "justify_items": null,
            "grid_row": null,
            "max_height": null,
            "align_content": null,
            "visibility": null,
            "align_self": null,
            "height": null,
            "min_height": null,
            "padding": null,
            "grid_auto_rows": null,
            "grid_gap": null,
            "max_width": null,
            "order": null,
            "_view_module_version": "1.2.0",
            "grid_template_areas": null,
            "object_position": null,
            "object_fit": null,
            "grid_auto_columns": null,
            "margin": null,
            "display": null,
            "left": null
          }
        }
      }
    }
  },
  "cells": [
    {
      "cell_type": "markdown",
      "metadata": {
        "id": "view-in-github",
        "colab_type": "text"
      },
      "source": [
        "<a href=\"https://colab.research.google.com/github/AlamKhalid/ml-cifar-10/blob/master/Week_3_Mini_Project.ipynb\" target=\"_parent\"><img src=\"https://colab.research.google.com/assets/colab-badge.svg\" alt=\"Open In Colab\"/></a>"
      ]
    },
    {
      "cell_type": "markdown",
      "metadata": {
        "id": "C947DdVxiInt",
        "colab_type": "text"
      },
      "source": [
        "# Week 3 - Mini Project - Alam Khalid\n",
        "\n",
        "Classification of data (CIFAR-10) using CNN\n",
        "\n",
        "\n",
        "Starting with import statements"
      ]
    },
    {
      "cell_type": "code",
      "metadata": {
        "id": "66MoT5OrUxch",
        "colab_type": "code",
        "colab": {}
      },
      "source": [
        "import numpy as np\n",
        "import os\n",
        "import matplotlib.pyplot as plt\n",
        "import torch\n",
        "import torchvision\n",
        "import torch.nn as nn\n",
        "import torch.nn.functional as F\n",
        "from torch.optim import Adam\n",
        "from torchvision.datasets import CIFAR10\n",
        "from torchvision.transforms import ToTensor, Normalize, Compose, RandomCrop, RandomHorizontalFlip\n",
        "from torch.utils.data import random_split, DataLoader"
      ],
      "execution_count": null,
      "outputs": []
    },
    {
      "cell_type": "markdown",
      "metadata": {
        "id": "HMH2ZUSLthlU",
        "colab_type": "text"
      },
      "source": [
        "Loading the dataset into respective variables and printing the length"
      ]
    },
    {
      "cell_type": "code",
      "metadata": {
        "id": "0IkJmgej3vXb",
        "colab_type": "code",
        "colab": {}
      },
      "source": [
        "combined_transforms_train = Compose([RandomCrop(32, padding=4, padding_mode='reflect'),\n",
        "                                     RandomHorizontalFlip(),\n",
        "                                     ToTensor(),\n",
        "                                     Normalize((0.4914, 0.4822, 0.4465), (0.2023, 0.1994, 0.2010),\n",
        "                                     inplace=True)])\n",
        "combined_transforms_test = Compose([ToTensor(), Normalize((0.4914, 0.4822, 0.4465), (0.2023, 0.1994, 0.2010),inplace=True)])"
      ],
      "execution_count": null,
      "outputs": []
    },
    {
      "cell_type": "code",
      "metadata": {
        "id": "uDlc-WkJU5RY",
        "colab_type": "code",
        "colab": {
          "base_uri": "https://localhost:8080/",
          "height": 116,
          "referenced_widgets": [
            "bb677b681aef47b1afdef79f4a217517",
            "d06953c59833447394071a656ce97f54",
            "07691d788aec439db56dc65370738ffa",
            "5e86d4f671df4e49993021524c456ecb",
            "222d75b97ce54f62a156f2d0ad9cf79a",
            "5093298236bf40e797225a696d53a697",
            "8875568ff35d4f2a87956cd4dc285c30",
            "90d03a0e3e0f4e0ab5ca5f2d0fe7ad8c"
          ]
        },
        "outputId": "fbe58248-43e1-4ef1-a4bd-fd9376fb2623"
      },
      "source": [
        "dataset = CIFAR10(root='./data', train=True, download=True, transform=combined_transforms_train)\n",
        "test_set = CIFAR10(root='./data', train=False, download=True, transform=combined_transforms_test)\n",
        "len(dataset), len(test_set)"
      ],
      "execution_count": null,
      "outputs": [
        {
          "output_type": "stream",
          "text": [
            "Downloading https://www.cs.toronto.edu/~kriz/cifar-10-python.tar.gz to ./data/cifar-10-python.tar.gz\n"
          ],
          "name": "stdout"
        },
        {
          "output_type": "display_data",
          "data": {
            "application/vnd.jupyter.widget-view+json": {
              "model_id": "bb677b681aef47b1afdef79f4a217517",
              "version_minor": 0,
              "version_major": 2
            },
            "text/plain": [
              "HBox(children=(FloatProgress(value=1.0, bar_style='info', max=1.0), HTML(value='')))"
            ]
          },
          "metadata": {
            "tags": []
          }
        },
        {
          "output_type": "stream",
          "text": [
            "Extracting ./data/cifar-10-python.tar.gz to ./data\n",
            "Files already downloaded and verified\n"
          ],
          "name": "stdout"
        },
        {
          "output_type": "execute_result",
          "data": {
            "text/plain": [
              "(50000, 10000)"
            ]
          },
          "metadata": {
            "tags": []
          },
          "execution_count": 3
        }
      ]
    },
    {
      "cell_type": "code",
      "metadata": {
        "id": "cSrFjYJPVBR8",
        "colab_type": "code",
        "colab": {}
      },
      "source": [
        "classes = ('plane', 'car', 'bird', 'cat', 'deer', 'dog', 'frog', 'horse', 'ship', 'truck')"
      ],
      "execution_count": null,
      "outputs": []
    },
    {
      "cell_type": "code",
      "metadata": {
        "id": "Sa-oNe85pthf",
        "colab_type": "code",
        "colab": {
          "base_uri": "https://localhost:8080/",
          "height": 34
        },
        "outputId": "b5ee7457-6191-41b3-9780-c66370261f49"
      },
      "source": [
        "channels, width, height = dataset[0][0].shape\n",
        "print(f\"Channels: {channels}, Width: {width}, Height: {height}\")"
      ],
      "execution_count": null,
      "outputs": [
        {
          "output_type": "stream",
          "text": [
            "Channels: 3, Width: 32, Height: 32\n"
          ],
          "name": "stdout"
        }
      ]
    },
    {
      "cell_type": "markdown",
      "metadata": {
        "id": "T1fUal_Czp1j",
        "colab_type": "text"
      },
      "source": [
        "Finding std and mean for normalizing data"
      ]
    },
    {
      "cell_type": "code",
      "metadata": {
        "id": "eadFxa8JzpnV",
        "colab_type": "code",
        "colab": {}
      },
      "source": [
        "c_std = 0     # to store standard deviation\n",
        "c_mean = 0    # to store mean\n",
        "\n",
        "# loop through training examples\n",
        "for data in dataset:\n",
        "  img = data[0].view(3, -1)\n",
        "  c_std += img.std(1)\n",
        "  c_mean += img.mean(1)"
      ],
      "execution_count": null,
      "outputs": []
    },
    {
      "cell_type": "code",
      "metadata": {
        "id": "HT2QWvdj3IOX",
        "colab_type": "code",
        "colab": {
          "base_uri": "https://localhost:8080/",
          "height": 34
        },
        "outputId": "281c4c09-0289-4de3-e7e4-cc9f513f17fc"
      },
      "source": [
        "print(c_std / len(dataset), c_mean / len(dataset))"
      ],
      "execution_count": null,
      "outputs": [
        {
          "output_type": "stream",
          "text": [
            "tensor([0.9907, 0.9904, 0.9887]) tensor([-0.0035, -0.0049, -0.0046])\n"
          ],
          "name": "stdout"
        }
      ]
    },
    {
      "cell_type": "markdown",
      "metadata": {
        "id": "uPva4abdmWqY",
        "colab_type": "text"
      },
      "source": [
        "Introducing seed so that gets same random each time\n",
        "\n",
        "Splitting data into train and validation sets"
      ]
    },
    {
      "cell_type": "code",
      "metadata": {
        "id": "z7eAJw3OkkOB",
        "colab_type": "code",
        "colab": {
          "base_uri": "https://localhost:8080/",
          "height": 34
        },
        "outputId": "3049d28b-aa98-46a3-8c23-72747c9cdd5c"
      },
      "source": [
        "seed = 40\n",
        "torch.manual_seed(seed);\n",
        "\n",
        "val_size = 5000\n",
        "test_size = len(test_set) - val_size\n",
        "\n",
        "test_set, val_set = random_split(test_set, [test_size, val_size])\n",
        "len(test_set), len(val_set)"
      ],
      "execution_count": null,
      "outputs": [
        {
          "output_type": "execute_result",
          "data": {
            "text/plain": [
              "(5000, 5000)"
            ]
          },
          "metadata": {
            "tags": []
          },
          "execution_count": 6
        }
      ]
    },
    {
      "cell_type": "markdown",
      "metadata": {
        "id": "w8OB2Pydtusg",
        "colab_type": "text"
      },
      "source": [
        "Converting the data into batches of size 64 as specified"
      ]
    },
    {
      "cell_type": "code",
      "metadata": {
        "id": "3CPiahmDno6p",
        "colab_type": "code",
        "colab": {}
      },
      "source": [
        "batch_size = 64\n",
        "\n",
        "train_dl = DataLoader(dataset, batch_size, shuffle=True, num_workers=3, pin_memory=True)\n",
        "val_dl = DataLoader(val_set, batch_size, num_workers=3, pin_memory=True)"
      ],
      "execution_count": null,
      "outputs": []
    },
    {
      "cell_type": "markdown",
      "metadata": {
        "id": "slLGAM4Usnft",
        "colab_type": "text"
      },
      "source": [
        "Displaying first two images from the training dataset along with their correct label\n",
        "\n"
      ]
    },
    {
      "cell_type": "code",
      "metadata": {
        "id": "fZjpp9DDoa0T",
        "colab_type": "code",
        "colab": {
          "base_uri": "https://localhost:8080/",
          "height": 300
        },
        "outputId": "c381ecbc-3edc-4e88-ac7d-8ad5a39ff811"
      },
      "source": [
        "plt.imshow(dataset[0][0].permute(1, 2, 0))\n",
        "print(classes[dataset[0][1]])"
      ],
      "execution_count": null,
      "outputs": [
        {
          "output_type": "stream",
          "text": [
            "Clipping input data to the valid range for imshow with RGB data ([0..1] for floats or [0..255] for integers).\n"
          ],
          "name": "stderr"
        },
        {
          "output_type": "stream",
          "text": [
            "frog\n"
          ],
          "name": "stdout"
        },
        {
          "output_type": "display_data",
          "data": {
            "image/png": "[encoded data removed]",
            "text/plain": [
              "<Figure size 432x288 with 1 Axes>"
            ]
          },
          "metadata": {
            "tags": [],
            "needs_background": "light"
          }
        }
      ]
    },
    {
      "cell_type": "code",
      "metadata": {
        "id": "Q-INHFl6q5Bm",
        "colab_type": "code",
        "colab": {
          "base_uri": "https://localhost:8080/",
          "height": 300
        },
        "outputId": "50b20609-3482-428e-a904-22b05aa469e0"
      },
      "source": [
        "plt.imshow(dataset[1][0].permute(1, 2, 0))\n",
        "print(classes[dataset[1][1]])"
      ],
      "execution_count": null,
      "outputs": [
        {
          "output_type": "stream",
          "text": [
            "Clipping input data to the valid range for imshow with RGB data ([0..1] for floats or [0..255] for integers).\n"
          ],
          "name": "stderr"
        },
        {
          "output_type": "stream",
          "text": [
            "truck\n"
          ],
          "name": "stdout"
        },
        {
          "output_type": "display_data",
          "data": {
            "image/png": "[encoded data removed]",
            "text/plain": [
              "<Figure size 432x288 with 1 Axes>"
            ]
          },
          "metadata": {
            "tags": [],
            "needs_background": "light"
          }
        }
      ]
    },
    {
      "cell_type": "markdown",
      "metadata": {
        "id": "Mnx3_1MmTj9G",
        "colab_type": "text"
      },
      "source": [
        "Defining the model"
      ]
    },
    {
      "cell_type": "code",
      "metadata": {
        "id": "XZg4XjvCvCEy",
        "colab_type": "code",
        "colab": {}
      },
      "source": [
        "def get_model(dropout_rate):\n",
        "  return nn.Sequential(\n",
        "      # First Conv Layer\n",
        "      nn.Conv2d(channels, 32, 3, padding=1),\n",
        "      nn.BatchNorm2d(32),\n",
        "      nn.ReLU(),\n",
        "      nn.Conv2d(32, 48, 3, padding=1),\n",
        "      nn.BatchNorm2d(48),\n",
        "      nn.ReLU(),\n",
        "      nn.MaxPool2d(2, 2),    # output [48, 16, 16]\n",
        "      # Dropout 1\n",
        "      nn.Dropout2d(dropout_rate),\n",
        "      # Second Conv Layer\n",
        "      nn.Conv2d(48, 64, 3, padding=1),\n",
        "      nn.BatchNorm2d(64),\n",
        "      nn.ReLU(),\n",
        "      nn.Conv2d(64, 128, 3, padding=1),\n",
        "      nn.BatchNorm2d(128),\n",
        "      nn.ReLU(),\n",
        "      nn.MaxPool2d(2, 2),    # output [128, 8, 8]\n",
        "      # Dropout 2\n",
        "      nn.Dropout2d(dropout_rate),\n",
        "      # Third Conv Layer\n",
        "      nn.Conv2d(128, 256, 3, padding=1),\n",
        "      nn.BatchNorm2d(256),\n",
        "      nn.ReLU(),\n",
        "      nn.MaxPool2d(2, 2),   # output [256, 4, 4]\n",
        "      # Flatten Layer\n",
        "      nn.Flatten(), \n",
        "      nn.Linear(256*4*4, 1024),\n",
        "      nn.ReLU(),\n",
        "      nn.Linear(1024, 512),\n",
        "      nn.ReLU(),\n",
        "      nn.Linear(512, 10)\n",
        "  )"
      ],
      "execution_count": null,
      "outputs": []
    },
    {
      "cell_type": "markdown",
      "metadata": {
        "id": "8rNy5rvxUQg2",
        "colab_type": "text"
      },
      "source": [
        "Defining functions to move data to GPU"
      ]
    },
    {
      "cell_type": "code",
      "metadata": {
        "id": "eIOA6Z45PuSp",
        "colab_type": "code",
        "colab": {}
      },
      "source": [
        "def get_default_device():\n",
        "  if torch.cuda.is_available():\n",
        "    return torch.device('cuda')\n",
        "  else:\n",
        "    return torch.device('cpu')\n",
        "\n",
        "  \n",
        "def to_device(data, device):\n",
        "  \"\"\"Move tensor(s) to chosen device\"\"\"\n",
        "  if isinstance(data, (list,tuple)):\n",
        "      return [to_device(x, device) for x in data]\n",
        "  return data.to(device, non_blocking=True)\n",
        "\n",
        "\n",
        "class DeviceDataLoader():\n",
        "  \"\"\"Wrap a dataloader to move data to a device\"\"\"\n",
        "  def __init__(self, dl, device):\n",
        "    self.dl = dl\n",
        "    self.device = device\n",
        "        \n",
        "  def __iter__(self):\n",
        "    \"\"\"Yield a batch of data after moving it to device\"\"\"\n",
        "    for b in self.dl: \n",
        "      yield to_device(b, self.device)\n",
        "\n",
        "    def __len__(self):\n",
        "      \"\"\"Number of batches\"\"\"\n",
        "      return len(self.dl)"
      ],
      "execution_count": null,
      "outputs": []
    },
    {
      "cell_type": "code",
      "metadata": {
        "id": "IBgNozJpTz7t",
        "colab_type": "code",
        "colab": {
          "base_uri": "https://localhost:8080/",
          "height": 34
        },
        "outputId": "e0e6ccb9-9505-407f-8b6b-d31c93a13dd9"
      },
      "source": [
        "device = get_default_device()\n",
        "torch.cuda.empty_cache()\n",
        "device"
      ],
      "execution_count": null,
      "outputs": [
        {
          "output_type": "execute_result",
          "data": {
            "text/plain": [
              "device(type='cuda')"
            ]
          },
          "metadata": {
            "tags": []
          },
          "execution_count": 12
        }
      ]
    },
    {
      "cell_type": "code",
      "metadata": {
        "id": "yQoOAXAjTdbl",
        "colab_type": "code",
        "colab": {}
      },
      "source": [
        "model = get_model(0.2)"
      ],
      "execution_count": null,
      "outputs": []
    },
    {
      "cell_type": "code",
      "metadata": {
        "id": "4hZ5Zjf6UWOU",
        "colab_type": "code",
        "colab": {}
      },
      "source": [
        "train_dl = DeviceDataLoader(train_dl, device)\n",
        "val_dl = DeviceDataLoader(val_dl, device)\n",
        "model = to_device(model, device);"
      ],
      "execution_count": null,
      "outputs": []
    },
    {
      "cell_type": "markdown",
      "metadata": {
        "id": "inz5zHEgIByI",
        "colab_type": "text"
      },
      "source": [
        "Defining a function to calculate accuracy"
      ]
    },
    {
      "cell_type": "code",
      "metadata": {
        "id": "tKfybObCVRgL",
        "colab_type": "code",
        "colab": {}
      },
      "source": [
        "def accuracy(outputs, labels):\n",
        "    _, preds = torch.max(outputs, dim=1)\n",
        "    return torch.tensor(torch.sum(preds == labels).item() / len(preds))"
      ],
      "execution_count": null,
      "outputs": []
    },
    {
      "cell_type": "markdown",
      "metadata": {
        "id": "YpAdLJxuWjJm",
        "colab_type": "text"
      },
      "source": [
        "Defining one validation step to show accuracy and loss for a single batch"
      ]
    },
    {
      "cell_type": "code",
      "metadata": {
        "id": "9p6vCReBWhD_",
        "colab_type": "code",
        "colab": {}
      },
      "source": [
        "def val_step(model, val_data):\n",
        "  model.eval()\n",
        "  losses = []\n",
        "  accs = []\n",
        "  torch.cuda.empty_cache()\n",
        "  for batch in val_data:\n",
        "    x, y = batch\n",
        "    out = model(x)\n",
        "    # calculating loss and accuracy\n",
        "    loss = F.cross_entropy(out, y)\n",
        "    acc = accuracy(out, y)\n",
        "    # appending data\n",
        "    losses.append(loss)\n",
        "    accs.append(acc)\n",
        "  epoch_loss = torch.stack(losses).mean().item()\n",
        "  epoch_acc = torch.stack(accs).mean()\n",
        "  print(f\"Validation Loss: {epoch_loss}, Validation Accuracy: {epoch_acc}\")\n",
        "  return {'val_loss': epoch_loss, 'val_acc': epoch_acc}"
      ],
      "execution_count": null,
      "outputs": []
    },
    {
      "cell_type": "markdown",
      "metadata": {
        "id": "eaMut5gbIGWu",
        "colab_type": "text"
      },
      "source": [
        "Defining a fit function"
      ]
    },
    {
      "cell_type": "code",
      "metadata": {
        "id": "v-cArkb3pM_o",
        "colab_type": "code",
        "colab": {}
      },
      "source": [
        "def fit(model, train_data, epochs, opt, val_data):\n",
        "  history_train = []\n",
        "  history_val = []\n",
        "  torch.cuda.empty_cache()\n",
        "  for epoch in range(epochs):\n",
        "    train_losses = []\n",
        "    train_acc = []\n",
        "    model.train()\n",
        "    for batch in train_data:\n",
        "      # making predictions\n",
        "      images, labels = batch\n",
        "      output = model(images)\n",
        "      # calculating loss\n",
        "      loss = F.cross_entropy(output, labels)\n",
        "      # calculating accuracy \n",
        "      train_acc.append(accuracy(output, labels))\n",
        "      # appending to losses list\n",
        "      train_losses.append(loss)\n",
        "      # computing gradients\n",
        "      loss.backward()\n",
        "      # performing parameter update\n",
        "      opt.step()\n",
        "      # set graients back to zero\n",
        "      opt.zero_grad()\n",
        "    calc_loss = torch.stack(train_losses).mean().item()\n",
        "    calc_acc = torch.stack(train_acc).mean()\n",
        "    print(f'For Epoch {epoch}, Loss: {calc_loss}, Accuracy: {calc_acc}')\n",
        "    history_train.append({'epoch': epoch, 'loss': calc_loss, 'acc': calc_acc})\n",
        "    history_val.append(val_step(model, val_data))\n",
        "  return history_train, history_val"
      ],
      "execution_count": null,
      "outputs": []
    },
    {
      "cell_type": "code",
      "metadata": {
        "id": "PKWbY8iIqvUE",
        "colab_type": "code",
        "colab": {
          "base_uri": "https://localhost:8080/",
          "height": 1000
        },
        "outputId": "f5c10297-4510-453f-b655-c2ad1c4edc3c"
      },
      "source": [
        "train_history, train_val = fit(model, train_dl, 50, Adam(model.parameters(), weight_decay=1e-4), val_dl)"
      ],
      "execution_count": null,
      "outputs": [
        {
          "output_type": "stream",
          "text": [
            "For Epoch 0, Loss: 1.5472474098205566, Accuracy: 0.4281090199947357\n",
            "Validation Loss: 1.0956350564956665, Validation Accuracy: 0.5939477682113647\n",
            "For Epoch 1, Loss: 1.1559033393859863, Accuracy: 0.5844789147377014\n",
            "Validation Loss: 0.9177266359329224, Validation Accuracy: 0.6744462251663208\n",
            "For Epoch 2, Loss: 0.9842332005500793, Accuracy: 0.6504955291748047\n",
            "Validation Loss: 0.7501227855682373, Validation Accuracy: 0.7416930198669434\n",
            "For Epoch 3, Loss: 0.8824077248573303, Accuracy: 0.6879995465278625\n",
            "Validation Loss: 0.7188258767127991, Validation Accuracy: 0.7521756291389465\n",
            "For Epoch 4, Loss: 0.8075135946273804, Accuracy: 0.7143142819404602\n",
            "Validation Loss: 0.6170017123222351, Validation Accuracy: 0.7840189933776855\n",
            "For Epoch 5, Loss: 0.7442042231559753, Accuracy: 0.739609956741333\n",
            "Validation Loss: 0.6182409524917603, Validation Accuracy: 0.7826344966888428\n",
            "For Epoch 6, Loss: 0.6986629366874695, Accuracy: 0.7557744383811951\n",
            "Validation Loss: 0.6001200079917908, Validation Accuracy: 0.797468364238739\n",
            "For Epoch 7, Loss: 0.662868320941925, Accuracy: 0.7700207829475403\n",
            "Validation Loss: 0.5007266998291016, Validation Accuracy: 0.8350474834442139\n",
            "For Epoch 8, Loss: 0.6316630244255066, Accuracy: 0.7801110744476318\n",
            "Validation Loss: 0.5585657358169556, Validation Accuracy: 0.8138844966888428\n",
            "For Epoch 9, Loss: 0.6009959578514099, Accuracy: 0.7928189039230347\n",
            "Validation Loss: 0.5079858899116516, Validation Accuracy: 0.8219936490058899\n",
            "For Epoch 10, Loss: 0.5806872844696045, Accuracy: 0.7988131642341614\n",
            "Validation Loss: 0.4673137664794922, Validation Accuracy: 0.8433544039726257\n",
            "For Epoch 11, Loss: 0.5581783056259155, Accuracy: 0.807205080986023\n",
            "Validation Loss: 0.4630909264087677, Validation Accuracy: 0.8484968543052673\n",
            "For Epoch 12, Loss: 0.5340924263000488, Accuracy: 0.8151374459266663\n",
            "Validation Loss: 0.4248242676258087, Validation Accuracy: 0.8514636158943176\n",
            "For Epoch 13, Loss: 0.5230753421783447, Accuracy: 0.8200327754020691\n",
            "Validation Loss: 0.44351816177368164, Validation Accuracy: 0.8492879867553711\n",
            "For Epoch 14, Loss: 0.5119028687477112, Accuracy: 0.823369562625885\n",
            "Validation Loss: 0.4226880371570587, Validation Accuracy: 0.8579905033111572\n",
            "For Epoch 15, Loss: 0.4931938052177429, Accuracy: 0.8297035098075867\n",
            "Validation Loss: 0.41157764196395874, Validation Accuracy: 0.8579905033111572\n",
            "For Epoch 16, Loss: 0.4861190915107727, Accuracy: 0.8327605724334717\n",
            "Validation Loss: 0.44069352746009827, Validation Accuracy: 0.8524525165557861\n",
            "For Epoch 17, Loss: 0.47357240319252014, Accuracy: 0.8366368412971497\n",
            "Validation Loss: 0.39320191740989685, Validation Accuracy: 0.8668908476829529\n",
            "For Epoch 18, Loss: 0.4631361663341522, Accuracy: 0.8411125540733337\n",
            "Validation Loss: 0.3921731412410736, Validation Accuracy: 0.8740110993385315\n",
            "For Epoch 19, Loss: 0.4530904293060303, Accuracy: 0.8432304859161377\n",
            "Validation Loss: 0.39653655886650085, Validation Accuracy: 0.862539529800415\n",
            "For Epoch 20, Loss: 0.44473183155059814, Accuracy: 0.8469868898391724\n",
            "Validation Loss: 0.4022524952888489, Validation Accuracy: 0.8672863841056824\n",
            "For Epoch 21, Loss: 0.4352174997329712, Accuracy: 0.8481258153915405\n",
            "Validation Loss: 0.37765058875083923, Validation Accuracy: 0.8771756291389465\n",
            "For Epoch 22, Loss: 0.4321427047252655, Accuracy: 0.8515425324440002\n",
            "Validation Loss: 0.4179454743862152, Validation Accuracy: 0.858188271522522\n",
            "For Epoch 23, Loss: 0.4236332178115845, Accuracy: 0.8546994924545288\n",
            "Validation Loss: 0.3839271366596222, Validation Accuracy: 0.8742088675498962\n",
            "For Epoch 24, Loss: 0.4182387888431549, Accuracy: 0.8547794222831726\n",
            "Validation Loss: 0.3623790740966797, Validation Accuracy: 0.8827136158943176\n",
            "For Epoch 25, Loss: 0.41021984815597534, Accuracy: 0.8609734773635864\n",
            "Validation Loss: 0.4004942774772644, Validation Accuracy: 0.8651107549667358\n",
            "For Epoch 26, Loss: 0.40846168994903564, Accuracy: 0.8595947623252869\n",
            "Validation Loss: 0.38141825795173645, Validation Accuracy: 0.8724287748336792\n",
            "For Epoch 27, Loss: 0.40449434518814087, Accuracy: 0.860254168510437\n",
            "Validation Loss: 0.359279990196228, Validation Accuracy: 0.8742088675498962\n",
            "For Epoch 28, Loss: 0.3955250084400177, Accuracy: 0.8627517819404602\n",
            "Validation Loss: 0.3498252332210541, Validation Accuracy: 0.8837025165557861\n",
            "For Epoch 29, Loss: 0.3914506137371063, Accuracy: 0.864669919013977\n",
            "Validation Loss: 0.3598948121070862, Validation Accuracy: 0.8751977682113647\n",
            "For Epoch 30, Loss: 0.3903881013393402, Accuracy: 0.864130437374115\n",
            "Validation Loss: 0.35081031918525696, Validation Accuracy: 0.8823180198669434\n",
            "For Epoch 31, Loss: 0.38672131299972534, Accuracy: 0.8682864308357239\n",
            "Validation Loss: 0.3484175503253937, Validation Accuracy: 0.8815268874168396\n",
            "For Epoch 32, Loss: 0.380768358707428, Accuracy: 0.8679467439651489\n",
            "Validation Loss: 0.3490477204322815, Validation Accuracy: 0.8813291192054749\n",
            "For Epoch 33, Loss: 0.38309726119041443, Accuracy: 0.869025707244873\n",
            "Validation Loss: 0.3496027886867523, Validation Accuracy: 0.8835047483444214\n",
            "For Epoch 34, Loss: 0.3790965676307678, Accuracy: 0.8681265711784363\n",
            "Validation Loss: 0.34029003977775574, Validation Accuracy: 0.8862737417221069\n",
            "For Epoch 35, Loss: 0.37380537390708923, Accuracy: 0.8709239363670349\n",
            "Validation Loss: 0.34287697076797485, Validation Accuracy: 0.8829113841056824\n",
            "For Epoch 36, Loss: 0.3696664571762085, Accuracy: 0.8722026944160461\n",
            "Validation Loss: 0.33212947845458984, Validation Accuracy: 0.887460470199585\n",
            "For Epoch 37, Loss: 0.3737569749355316, Accuracy: 0.8713035583496094\n",
            "Validation Loss: 0.35122042894363403, Validation Accuracy: 0.8803402185440063\n",
            "For Epoch 38, Loss: 0.36955952644348145, Accuracy: 0.8721827268600464\n",
            "Validation Loss: 0.36843159794807434, Validation Accuracy: 0.876780092716217\n",
            "For Epoch 39, Loss: 0.36420562863349915, Accuracy: 0.8747802376747131\n",
            "Validation Loss: 0.3409271240234375, Validation Accuracy: 0.8840981125831604\n",
            "For Epoch 40, Loss: 0.3601369261741638, Accuracy: 0.8751798272132874\n",
            "Validation Loss: 0.3342098295688629, Validation Accuracy: 0.8866692781448364\n",
            "For Epoch 41, Loss: 0.3572942614555359, Accuracy: 0.8770580291748047\n",
            "Validation Loss: 0.3421168327331543, Validation Accuracy: 0.8860759735107422\n",
            "For Epoch 42, Loss: 0.36188197135925293, Accuracy: 0.8742607235908508\n",
            "Validation Loss: 0.312365859746933, Validation Accuracy: 0.8914161324501038\n",
            "For Epoch 43, Loss: 0.3579144775867462, Accuracy: 0.8768981695175171\n",
            "Validation Loss: 0.3194955289363861, Validation Accuracy: 0.8945807218551636\n",
            "For Epoch 44, Loss: 0.35725516080856323, Accuracy: 0.875819206237793\n",
            "Validation Loss: 0.31117287278175354, Validation Accuracy: 0.8931962251663208\n",
            "For Epoch 45, Loss: 0.3504873514175415, Accuracy: 0.8788962364196777\n",
            "Validation Loss: 0.3369925022125244, Validation Accuracy: 0.8860759735107422\n",
            "For Epoch 46, Loss: 0.35051029920578003, Accuracy: 0.8784966468811035\n",
            "Validation Loss: 0.33487483859062195, Validation Accuracy: 0.8908227682113647\n",
            "For Epoch 47, Loss: 0.34986412525177, Accuracy: 0.8782368898391724\n",
            "Validation Loss: 0.31940001249313354, Validation Accuracy: 0.892405092716217\n",
            "For Epoch 48, Loss: 0.3423377573490143, Accuracy: 0.8804147839546204\n",
            "Validation Loss: 0.34876754879951477, Validation Accuracy: 0.8886471390724182\n",
            "For Epoch 49, Loss: 0.34385669231414795, Accuracy: 0.8812339901924133\n",
            "Validation Loss: 0.3153577446937561, Validation Accuracy: 0.8941851258277893\n"
          ],
          "name": "stdout"
        }
      ]
    },
    {
      "cell_type": "markdown",
      "metadata": {
        "id": "cGDXb_jwIJTe",
        "colab_type": "text"
      },
      "source": [
        "Defining an evaluate function"
      ]
    },
    {
      "cell_type": "code",
      "metadata": {
        "id": "SVoNzTDpu9SP",
        "colab_type": "code",
        "colab": {}
      },
      "source": [
        "def eval(model, data, type):\n",
        "  model.eval()\n",
        "  epoch = 0\n",
        "  losses = []\n",
        "  accuracies = []\n",
        "  torch.cuda.empty_cache()\n",
        "  for images, labels in data:\n",
        "    # making predictions\n",
        "    out = model(images)\n",
        "    # calculating loss\n",
        "    loss = F.cross_entropy(out, labels)\n",
        "    # calculating accuracy\n",
        "    acc = accuracy(out, labels)\n",
        "    # appending data\n",
        "    losses.append(loss)\n",
        "    accuracies.append(acc)\n",
        "    epoch += 1\n",
        "  print(f\"{type} Loss: {torch.stack(losses).mean().item()}, {type} Accuracy: {torch.stack(accuracies).mean()}\")"
      ],
      "execution_count": null,
      "outputs": []
    },
    {
      "cell_type": "code",
      "metadata": {
        "id": "xajg0eI5BrBG",
        "colab_type": "code",
        "colab": {
          "base_uri": "https://localhost:8080/",
          "height": 34
        },
        "outputId": "e075f516-9197-4822-929a-791a84a1ea60"
      },
      "source": [
        "eval(model, val_dl, \"Validation\")"
      ],
      "execution_count": null,
      "outputs": [
        {
          "output_type": "stream",
          "text": [
            "Validation Loss: 0.4319770038127899, Validation Accuracy: 0.8587890863418579\n"
          ],
          "name": "stdout"
        }
      ]
    },
    {
      "cell_type": "markdown",
      "metadata": {
        "id": "XT92F7LvBIf6",
        "colab_type": "text"
      },
      "source": [
        "Function for plotting graphs"
      ]
    },
    {
      "cell_type": "code",
      "metadata": {
        "id": "zaopFi0HBIOi",
        "colab_type": "code",
        "colab": {}
      },
      "source": [
        "def plot_accuracies(history, accuracy_name):\n",
        "    accuracies = [x[accuracy_name] for x in history]\n",
        "    plt.plot(accuracies, '-x')\n",
        "    plt.xlabel('epoch')\n",
        "    plt.ylabel('accuracy')\n",
        "    plt.title('Accuracy vs. No. of epochs');"
      ],
      "execution_count": null,
      "outputs": []
    },
    {
      "cell_type": "markdown",
      "metadata": {
        "id": "03g-ZwS1BicE",
        "colab_type": "text"
      },
      "source": [
        "Training Graph"
      ]
    },
    {
      "cell_type": "code",
      "metadata": {
        "id": "fzs1mtAtBiH6",
        "colab_type": "code",
        "colab": {
          "base_uri": "https://localhost:8080/",
          "height": 295
        },
        "outputId": "61f2097e-ad73-4596-a0b7-96d6c10ef08a"
      },
      "source": [
        "plot_accuracies(train_history, 'acc')"
      ],
      "execution_count": null,
      "outputs": [
        {
          "output_type": "display_data",
          "data": {
            "image/png": "[encoded data removed]",
            "text/plain": [
              "<Figure size 432x288 with 1 Axes>"
            ]
          },
          "metadata": {
            "tags": [],
            "needs_background": "light"
          }
        }
      ]
    },
    {
      "cell_type": "markdown",
      "metadata": {
        "id": "9MICEFB8BnFp",
        "colab_type": "text"
      },
      "source": [
        "Validation Graph"
      ]
    },
    {
      "cell_type": "code",
      "metadata": {
        "id": "YDaEjoYzBnRx",
        "colab_type": "code",
        "colab": {
          "base_uri": "https://localhost:8080/",
          "height": 295
        },
        "outputId": "7ea6af2b-bcb5-4d35-bcfe-6a7755b4f2ba"
      },
      "source": [
        "plot_accuracies(train_val, 'val_acc')"
      ],
      "execution_count": null,
      "outputs": [
        {
          "output_type": "display_data",
          "data": {
            "image/png": "[encoded data removed]",
            "text/plain": [
              "<Figure size 432x288 with 1 Axes>"
            ]
          },
          "metadata": {
            "tags": [],
            "needs_background": "light"
          }
        }
      ]
    },
    {
      "cell_type": "markdown",
      "metadata": {
        "id": "K6NdMiwtIMZu",
        "colab_type": "text"
      },
      "source": [
        "Model on test set"
      ]
    },
    {
      "cell_type": "code",
      "metadata": {
        "id": "ybpwUwxxBu3o",
        "colab_type": "code",
        "colab": {}
      },
      "source": [
        "test_dl = DataLoader(test_set, 1, num_workers=3, pin_memory=True) # converting test set into batches of 1\n",
        "test_dl = DeviceDataLoader(test_dl, device)"
      ],
      "execution_count": null,
      "outputs": []
    },
    {
      "cell_type": "code",
      "metadata": {
        "id": "XD385b2sDuXF",
        "colab_type": "code",
        "colab": {
          "base_uri": "https://localhost:8080/",
          "height": 34
        },
        "outputId": "1ae61fad-0a8c-4c14-d114-b871bf13c9e0"
      },
      "source": [
        "eval(model, test_dl, \"Test\")"
      ],
      "execution_count": null,
      "outputs": [
        {
          "output_type": "stream",
          "text": [
            "Test Loss: 0.3474072813987732, Test Accuracy: 0.8844000101089478\n"
          ],
          "name": "stdout"
        }
      ]
    },
    {
      "cell_type": "markdown",
      "metadata": {
        "id": "ngrLvvaoYiFK",
        "colab_type": "text"
      },
      "source": [
        "Printing and predicting images from test set"
      ]
    },
    {
      "cell_type": "code",
      "metadata": {
        "id": "Jg5_nj-SYg60",
        "colab_type": "code",
        "colab": {
          "base_uri": "https://localhost:8080/",
          "height": 300
        },
        "outputId": "5a2c871e-eed0-49c3-c4a8-61e308236d8b"
      },
      "source": [
        "# testing for first example only\n",
        "for x, y in test_dl:\n",
        "  out = model(x)\n",
        "  probs = F.softmax(out, 1)\n",
        "  _, pred = torch.max(probs, 1)\n",
        "  plt.imshow(test_set[0][0].permute(1,2,0))\n",
        "  print(f\"Actual Label: {classes[y]}, Predicted Label: {classes[pred]}\")\n",
        "  break"
      ],
      "execution_count": null,
      "outputs": [
        {
          "output_type": "stream",
          "text": [
            "Clipping input data to the valid range for imshow with RGB data ([0..1] for floats or [0..255] for integers).\n"
          ],
          "name": "stderr"
        },
        {
          "output_type": "stream",
          "text": [
            "Actual Label: car, Predicted Label: car\n"
          ],
          "name": "stdout"
        },
        {
          "output_type": "display_data",
          "data": {
            "image/png": "[encoded data removed]",
            "text/plain": [
              "<Figure size 432x288 with 1 Axes>"
            ]
          },
          "metadata": {
            "tags": [],
            "needs_background": "light"
          }
        }
      ]
    },
    {
      "cell_type": "markdown",
      "metadata": {
        "id": "XtzTBUwgaXXc",
        "colab_type": "text"
      },
      "source": [
        "Saving the weights for future use"
      ]
    },
    {
      "cell_type": "code",
      "metadata": {
        "id": "rOqbV6tHI5r7",
        "colab_type": "code",
        "colab": {}
      },
      "source": [
        "torch.save(model.state_dict(), 'cifar-10-model.pth')"
      ],
      "execution_count": null,
      "outputs": []
    },
    {
      "cell_type": "code",
      "metadata": {
        "id": "87FNTBZscRyw",
        "colab_type": "code",
        "colab": {}
      },
      "source": [
        ""
      ],
      "execution_count": null,
      "outputs": []
    }
  ]
}